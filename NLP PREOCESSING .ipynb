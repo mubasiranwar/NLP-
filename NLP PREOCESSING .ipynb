{
 "cells": [
  {
   "cell_type": "markdown",
   "id": "07aec27b-0e5b-4171-8aad-ff9797da42a2",
   "metadata": {},
   "source": [
    "# NLP Preprocessing\n",
    "# 1. Import Required Libraries\n"
   ]
  },
  {
   "cell_type": "code",
   "execution_count": 34,
   "id": "489ddc30-7baf-4ec7-89dc-64540300f643",
   "metadata": {},
   "outputs": [
    {
     "name": "stderr",
     "output_type": "stream",
     "text": [
      "[nltk_data] Downloading package punkt to C:\\Users\\3\n",
      "[nltk_data]     STAR\\AppData\\Roaming\\nltk_data...\n",
      "[nltk_data]   Package punkt is already up-to-date!\n",
      "[nltk_data] Downloading package stopwords to C:\\Users\\3\n",
      "[nltk_data]     STAR\\AppData\\Roaming\\nltk_data...\n",
      "[nltk_data]   Package stopwords is already up-to-date!\n",
      "[nltk_data] Downloading package wordnet to C:\\Users\\3\n",
      "[nltk_data]     STAR\\AppData\\Roaming\\nltk_data...\n",
      "[nltk_data]   Package wordnet is already up-to-date!\n",
      "[nltk_data] Downloading package averaged_perceptron_tagger to\n",
      "[nltk_data]     C:\\Users\\3 STAR\\AppData\\Roaming\\nltk_data...\n",
      "[nltk_data]   Package averaged_perceptron_tagger is already up-to-\n",
      "[nltk_data]       date!\n"
     ]
    }
   ],
   "source": [
    "# Basic NLP Libraries\n",
    "import nltk\n",
    "import re  #Regular Expressions\n",
    "import string\n",
    "\n",
    "# Download necessary NLTK datasets (only need to run once)\n",
    "nltk.download('punkt')       # For tokenization\n",
    "nltk.download('stopwords')   # For stopword removal\n",
    "nltk.download('wordnet')     # For lemmatization\n",
    "nltk.download('averaged_perceptron_tagger')  # For POS tagging\n",
    "\n",
    "# Specific Tools\n",
    "from nltk.corpus import stopwords\n",
    "from nltk.stem import PorterStemmer, WordNetLemmatizer\n",
    "import warnings\n",
    "\n",
    "# Suppress all warnings\n",
    "warnings.filterwarnings('ignore')\n",
    "\n",
    "\n",
    "\n"
   ]
  },
  {
   "cell_type": "markdown",
   "id": "fadcff5d-bc2e-4f8e-a379-a41c9d3b3381",
   "metadata": {},
   "source": [
    "# 2. Sample Text"
   ]
  },
  {
   "cell_type": "code",
   "execution_count": 4,
   "id": "7780c855-483c-4bfb-a1eb-117330d698af",
   "metadata": {},
   "outputs": [
    {
     "name": "stdout",
     "output_type": "stream",
     "text": [
      "Original Text:\n",
      " Hello there! Welcome to the world of NLP. Let's clean, process, and understand text better.\n"
     ]
    }
   ],
   "source": [
    "# Example text for preprocessing\n",
    "text = \"Hello there! Welcome to the world of NLP. Let's clean, process, and understand text better.\"\n",
    "print(\"Original Text:\\n\", text)\n"
   ]
  },
  {
   "cell_type": "markdown",
   "id": "5d06b000-5e48-475f-a2b5-a475b8820d13",
   "metadata": {},
   "source": [
    "# 3. Text Cleaning\n",
    "- Removing special characters, numbers, and extra spaces\n",
    "\n",
    "\n"
   ]
  },
  {
   "cell_type": "code",
   "execution_count": 8,
   "id": "8f307e4e-6c77-4064-a4f4-5191decb3ce1",
   "metadata": {},
   "outputs": [
    {
     "name": "stdout",
     "output_type": "stream",
     "text": [
      "Cleaned Text:\n",
      " Hello there Welcome to the world of NLP Lets clean process and understand text better\n"
     ]
    }
   ],
   "source": [
    "# Remove punctuation\n",
    "text_cleaned = text.translate(str.maketrans('', '', string.punctuation))\n",
    "\n",
    "# Remove numbers\n",
    "text_cleaned = re.sub(r'\\d+', '', text_cleaned)\n",
    "\n",
    "# Remove extra whitespace\n",
    "text_cleaned = \" \".join(text_cleaned.split())\n",
    "\n",
    "print(\"Cleaned Text:\\n\", text_cleaned)\n"
   ]
  },
  {
   "cell_type": "markdown",
   "id": "edb7b1a2-6ed3-40fd-9b35-366bd348c1a7",
   "metadata": {},
   "source": [
    "# 4. Lowercasing"
   ]
  },
  {
   "cell_type": "code",
   "execution_count": 11,
   "id": "7ec43633-bf3f-4e8c-ac6c-092d30130a91",
   "metadata": {},
   "outputs": [
    {
     "name": "stdout",
     "output_type": "stream",
     "text": [
      "Lowercased Text:\n",
      " hello there welcome to the world of nlp lets clean process and understand text better\n"
     ]
    }
   ],
   "source": [
    "# Convert text to lowercase\n",
    "text_lower = text_cleaned.lower()\n",
    "print(\"Lowercased Text:\\n\", text_lower)\n"
   ]
  },
  {
   "cell_type": "markdown",
   "id": "b50479dc-03c1-47c7-b1f0-a0638567aa84",
   "metadata": {},
   "source": [
    "# 5. Tokenization\n",
    "- Breaking text into words (word tokenization)"
   ]
  },
  {
   "cell_type": "code",
   "execution_count": 14,
   "id": "de95cdce-5e37-4e91-9080-34f8e19fef44",
   "metadata": {},
   "outputs": [
    {
     "name": "stdout",
     "output_type": "stream",
     "text": [
      "Tokens:\n",
      " ['hello', 'there', 'welcome', 'to', 'the', 'world', 'of', 'nlp', 'lets', 'clean', 'process', 'and', 'understand', 'text', 'better']\n"
     ]
    }
   ],
   "source": [
    "# Tokenize the text into words\n",
    "tokens = nltk.word_tokenize(text_lower)\n",
    "print(\"Tokens:\\n\", tokens)\n"
   ]
  },
  {
   "cell_type": "markdown",
   "id": "209f6bf1-fa7b-43c4-ac40-10de1c9d5dc3",
   "metadata": {},
   "source": [
    "# 6. Stopword Removal"
   ]
  },
  {
   "cell_type": "code",
   "execution_count": 17,
   "id": "cc7b57ee-20ff-4306-aedc-cafa4d9f9179",
   "metadata": {},
   "outputs": [
    {
     "name": "stdout",
     "output_type": "stream",
     "text": [
      "Tokens after Stopword Removal:\n",
      " ['hello', 'welcome', 'world', 'nlp', 'lets', 'clean', 'process', 'understand', 'text', 'better']\n"
     ]
    }
   ],
   "source": [
    "# Load English stopwords\n",
    "stop_words = set(stopwords.words('english'))\n",
    "\n",
    "# Remove stopwords from tokens\n",
    "tokens_without_stopwords = [word for word in tokens if word not in stop_words]\n",
    "print(\"Tokens after Stopword Removal:\\n\", tokens_without_stopwords)\n"
   ]
  },
  {
   "cell_type": "markdown",
   "id": "b3267c57-8604-4cc2-8aa8-07fde441c1b5",
   "metadata": {},
   "source": [
    "# 7. Stemming\n",
    "- Crude root extraction using PorterStemmer"
   ]
  },
  {
   "cell_type": "code",
   "execution_count": 20,
   "id": "47dd8ed4-dbe9-46d7-8aa0-2aaffa743e61",
   "metadata": {},
   "outputs": [
    {
     "name": "stdout",
     "output_type": "stream",
     "text": [
      "Stemmed Tokens:\n",
      " ['hello', 'welcom', 'world', 'nlp', 'let', 'clean', 'process', 'understand', 'text', 'better']\n"
     ]
    }
   ],
   "source": [
    "# Initialize stemmer\n",
    "stemmer = PorterStemmer()\n",
    "\n",
    "# Apply stemming\n",
    "stemmed_tokens = [stemmer.stem(word) for word in tokens_without_stopwords]\n",
    "print(\"Stemmed Tokens:\\n\", stemmed_tokens)\n"
   ]
  },
  {
   "cell_type": "markdown",
   "id": "a2fa14fe-031f-4646-8603-2a706c63d711",
   "metadata": {},
   "source": [
    "# 8. Lemmatization\n",
    "- Smarter root form extraction"
   ]
  },
  {
   "cell_type": "code",
   "execution_count": 23,
   "id": "04827f83-b323-41d5-a5aa-02b57ca9426d",
   "metadata": {},
   "outputs": [
    {
     "name": "stdout",
     "output_type": "stream",
     "text": [
      "Lemmatized Tokens:\n",
      " ['hello', 'welcome', 'world', 'nlp', 'let', 'clean', 'process', 'understand', 'text', 'better']\n"
     ]
    }
   ],
   "source": [
    "# Initialize lemmatizer\n",
    "lemmatizer = WordNetLemmatizer()\n",
    "\n",
    "# Apply lemmatization\n",
    "lemmatized_tokens = [lemmatizer.lemmatize(word) for word in tokens_without_stopwords]\n",
    "print(\"Lemmatized Tokens:\\n\", lemmatized_tokens)\n"
   ]
  },
  {
   "cell_type": "markdown",
   "id": "8ca24f1a-7602-4235-817d-7b3a51831246",
   "metadata": {},
   "source": [
    "Note: Lemmatization gives proper dictionary words unlike stemming."
   ]
  },
  {
   "cell_type": "markdown",
   "id": "8f59c3d4-61e8-4cfd-accd-a6bd8826f5ff",
   "metadata": {},
   "source": [
    "# 9. POS Tagging "
   ]
  },
  {
   "cell_type": "code",
   "execution_count": 28,
   "id": "2fdd175d-a45d-44fe-be0b-6e0cc08adcc4",
   "metadata": {},
   "outputs": [
    {
     "name": "stdout",
     "output_type": "stream",
     "text": [
      "POS Tags:\n",
      " [('hello', 'NN'), ('welcome', 'JJ'), ('world', 'NN'), ('nlp', 'NN'), ('lets', 'NNS'), ('clean', 'JJ'), ('process', 'NN'), ('understand', 'VBP'), ('text', 'NN'), ('better', 'NN')]\n"
     ]
    }
   ],
   "source": [
    "# Perform Part-of-Speech (POS) tagging\n",
    "pos_tags = nltk.pos_tag(tokens_without_stopwords)\n",
    "print(\"POS Tags:\\n\", pos_tags)\n"
   ]
  },
  {
   "cell_type": "markdown",
   "id": "40192d2d-a4d1-4cc0-a873-c2804c145141",
   "metadata": {},
   "source": [
    "- NN → Noun\n",
    "\n",
    "- VB → Verb\n",
    "\n",
    "- JJR → Comparative adjective (e.g., better)"
   ]
  },
  {
   "cell_type": "markdown",
   "id": "37152f06-b098-4530-92cb-513207483219",
   "metadata": {},
   "source": [
    "## NOTE\n",
    "- For serious projects, lemmatization is preferred over stemming.\n",
    "\n",
    "- Stopword lists should be customized based on your specific NLP task.\n",
    "\n",
    "- Vectorization (BoW, TF-IDF, Word2Vec) comes after preprocessing."
   ]
  },
  {
   "cell_type": "code",
   "execution_count": null,
   "id": "39842e8e-addb-4905-ad25-7d1759668d5c",
   "metadata": {},
   "outputs": [],
   "source": []
  }
 ],
 "metadata": {
  "kernelspec": {
   "display_name": "Python 3 (ipykernel)",
   "language": "python",
   "name": "python3"
  },
  "language_info": {
   "codemirror_mode": {
    "name": "ipython",
    "version": 3
   },
   "file_extension": ".py",
   "mimetype": "text/x-python",
   "name": "python",
   "nbconvert_exporter": "python",
   "pygments_lexer": "ipython3",
   "version": "3.12.4"
  }
 },
 "nbformat": 4,
 "nbformat_minor": 5
}
